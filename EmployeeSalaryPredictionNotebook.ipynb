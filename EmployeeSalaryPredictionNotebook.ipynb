{
 "cells": [
  {
   "cell_type": "code",
   "execution_count": 2,
   "id": "659d81e8-8afe-441f-ae8e-16ea3b3855f0",
   "metadata": {},
   "outputs": [],
   "source": [
    "import pandas as pd"
   ]
  },
  {
   "cell_type": "code",
   "execution_count": 3,
   "id": "5b36f595-e9c9-422a-aa65-ba0096636437",
   "metadata": {},
   "outputs": [],
   "source": [
    "data=pd.read_csv(r\"C:\\Users\\kaif7\\Downloads\\salary_prediction_data.csv\")"
   ]
  },
  {
   "cell_type": "code",
   "execution_count": 4,
   "id": "b5f4546e-42b3-438c-8b10-638778bf4bbd",
   "metadata": {},
   "outputs": [
    {
     "data": {
      "text/html": [
       "<div>\n",
       "<style scoped>\n",
       "    .dataframe tbody tr th:only-of-type {\n",
       "        vertical-align: middle;\n",
       "    }\n",
       "\n",
       "    .dataframe tbody tr th {\n",
       "        vertical-align: top;\n",
       "    }\n",
       "\n",
       "    .dataframe thead th {\n",
       "        text-align: right;\n",
       "    }\n",
       "</style>\n",
       "<table border=\"1\" class=\"dataframe\">\n",
       "  <thead>\n",
       "    <tr style=\"text-align: right;\">\n",
       "      <th></th>\n",
       "      <th>Education</th>\n",
       "      <th>Experience</th>\n",
       "      <th>Location</th>\n",
       "      <th>Job_Title</th>\n",
       "      <th>Age</th>\n",
       "      <th>Gender</th>\n",
       "      <th>Salary</th>\n",
       "    </tr>\n",
       "  </thead>\n",
       "  <tbody>\n",
       "    <tr>\n",
       "      <th>0</th>\n",
       "      <td>High School</td>\n",
       "      <td>8</td>\n",
       "      <td>Urban</td>\n",
       "      <td>Manager</td>\n",
       "      <td>63</td>\n",
       "      <td>Male</td>\n",
       "      <td>84620.053665</td>\n",
       "    </tr>\n",
       "    <tr>\n",
       "      <th>1</th>\n",
       "      <td>PhD</td>\n",
       "      <td>11</td>\n",
       "      <td>Suburban</td>\n",
       "      <td>Director</td>\n",
       "      <td>59</td>\n",
       "      <td>Male</td>\n",
       "      <td>142591.255894</td>\n",
       "    </tr>\n",
       "    <tr>\n",
       "      <th>2</th>\n",
       "      <td>Bachelor</td>\n",
       "      <td>28</td>\n",
       "      <td>Suburban</td>\n",
       "      <td>Manager</td>\n",
       "      <td>61</td>\n",
       "      <td>Female</td>\n",
       "      <td>97800.255404</td>\n",
       "    </tr>\n",
       "    <tr>\n",
       "      <th>3</th>\n",
       "      <td>High School</td>\n",
       "      <td>29</td>\n",
       "      <td>Rural</td>\n",
       "      <td>Director</td>\n",
       "      <td>45</td>\n",
       "      <td>Male</td>\n",
       "      <td>96834.671282</td>\n",
       "    </tr>\n",
       "    <tr>\n",
       "      <th>4</th>\n",
       "      <td>PhD</td>\n",
       "      <td>25</td>\n",
       "      <td>Urban</td>\n",
       "      <td>Analyst</td>\n",
       "      <td>26</td>\n",
       "      <td>Female</td>\n",
       "      <td>132157.786175</td>\n",
       "    </tr>\n",
       "    <tr>\n",
       "      <th>...</th>\n",
       "      <td>...</td>\n",
       "      <td>...</td>\n",
       "      <td>...</td>\n",
       "      <td>...</td>\n",
       "      <td>...</td>\n",
       "      <td>...</td>\n",
       "      <td>...</td>\n",
       "    </tr>\n",
       "    <tr>\n",
       "      <th>995</th>\n",
       "      <td>High School</td>\n",
       "      <td>8</td>\n",
       "      <td>Suburban</td>\n",
       "      <td>Analyst</td>\n",
       "      <td>25</td>\n",
       "      <td>Female</td>\n",
       "      <td>64683.389864</td>\n",
       "    </tr>\n",
       "    <tr>\n",
       "      <th>996</th>\n",
       "      <td>High School</td>\n",
       "      <td>24</td>\n",
       "      <td>Urban</td>\n",
       "      <td>Engineer</td>\n",
       "      <td>30</td>\n",
       "      <td>Female</td>\n",
       "      <td>74468.205020</td>\n",
       "    </tr>\n",
       "    <tr>\n",
       "      <th>997</th>\n",
       "      <td>Master</td>\n",
       "      <td>18</td>\n",
       "      <td>Rural</td>\n",
       "      <td>Analyst</td>\n",
       "      <td>44</td>\n",
       "      <td>Male</td>\n",
       "      <td>98207.026024</td>\n",
       "    </tr>\n",
       "    <tr>\n",
       "      <th>998</th>\n",
       "      <td>Bachelor</td>\n",
       "      <td>27</td>\n",
       "      <td>Suburban</td>\n",
       "      <td>Director</td>\n",
       "      <td>31</td>\n",
       "      <td>Female</td>\n",
       "      <td>108544.922720</td>\n",
       "    </tr>\n",
       "    <tr>\n",
       "      <th>999</th>\n",
       "      <td>High School</td>\n",
       "      <td>25</td>\n",
       "      <td>Urban</td>\n",
       "      <td>Director</td>\n",
       "      <td>41</td>\n",
       "      <td>Female</td>\n",
       "      <td>71077.000066</td>\n",
       "    </tr>\n",
       "  </tbody>\n",
       "</table>\n",
       "<p>1000 rows × 7 columns</p>\n",
       "</div>"
      ],
      "text/plain": [
       "       Education  Experience  Location Job_Title  Age  Gender         Salary\n",
       "0    High School           8     Urban   Manager   63    Male   84620.053665\n",
       "1            PhD          11  Suburban  Director   59    Male  142591.255894\n",
       "2       Bachelor          28  Suburban   Manager   61  Female   97800.255404\n",
       "3    High School          29     Rural  Director   45    Male   96834.671282\n",
       "4            PhD          25     Urban   Analyst   26  Female  132157.786175\n",
       "..           ...         ...       ...       ...  ...     ...            ...\n",
       "995  High School           8  Suburban   Analyst   25  Female   64683.389864\n",
       "996  High School          24     Urban  Engineer   30  Female   74468.205020\n",
       "997       Master          18     Rural   Analyst   44    Male   98207.026024\n",
       "998     Bachelor          27  Suburban  Director   31  Female  108544.922720\n",
       "999  High School          25     Urban  Director   41  Female   71077.000066\n",
       "\n",
       "[1000 rows x 7 columns]"
      ]
     },
     "execution_count": 4,
     "metadata": {},
     "output_type": "execute_result"
    }
   ],
   "source": [
    "data"
   ]
  },
  {
   "cell_type": "code",
   "execution_count": 5,
   "id": "5a736016-5811-45f1-a330-2fee7b5682cc",
   "metadata": {},
   "outputs": [
    {
     "data": {
      "text/plain": [
       "0      False\n",
       "1      False\n",
       "2      False\n",
       "3      False\n",
       "4      False\n",
       "       ...  \n",
       "995    False\n",
       "996    False\n",
       "997    False\n",
       "998    False\n",
       "999    False\n",
       "Length: 1000, dtype: bool"
      ]
     },
     "execution_count": 5,
     "metadata": {},
     "output_type": "execute_result"
    }
   ],
   "source": [
    "data.duplicated()"
   ]
  },
  {
   "cell_type": "code",
   "execution_count": 6,
   "id": "7e5d6a85-ff04-4d36-b610-4bc8310949b1",
   "metadata": {},
   "outputs": [
    {
     "data": {
      "text/html": [
       "<div>\n",
       "<style scoped>\n",
       "    .dataframe tbody tr th:only-of-type {\n",
       "        vertical-align: middle;\n",
       "    }\n",
       "\n",
       "    .dataframe tbody tr th {\n",
       "        vertical-align: top;\n",
       "    }\n",
       "\n",
       "    .dataframe thead th {\n",
       "        text-align: right;\n",
       "    }\n",
       "</style>\n",
       "<table border=\"1\" class=\"dataframe\">\n",
       "  <thead>\n",
       "    <tr style=\"text-align: right;\">\n",
       "      <th></th>\n",
       "      <th>Education</th>\n",
       "      <th>Experience</th>\n",
       "      <th>Location</th>\n",
       "      <th>Job_Title</th>\n",
       "      <th>Age</th>\n",
       "      <th>Gender</th>\n",
       "      <th>Salary</th>\n",
       "    </tr>\n",
       "  </thead>\n",
       "  <tbody>\n",
       "    <tr>\n",
       "      <th>0</th>\n",
       "      <td>False</td>\n",
       "      <td>False</td>\n",
       "      <td>False</td>\n",
       "      <td>False</td>\n",
       "      <td>False</td>\n",
       "      <td>False</td>\n",
       "      <td>False</td>\n",
       "    </tr>\n",
       "    <tr>\n",
       "      <th>1</th>\n",
       "      <td>False</td>\n",
       "      <td>False</td>\n",
       "      <td>False</td>\n",
       "      <td>False</td>\n",
       "      <td>False</td>\n",
       "      <td>False</td>\n",
       "      <td>False</td>\n",
       "    </tr>\n",
       "    <tr>\n",
       "      <th>2</th>\n",
       "      <td>False</td>\n",
       "      <td>False</td>\n",
       "      <td>False</td>\n",
       "      <td>False</td>\n",
       "      <td>False</td>\n",
       "      <td>False</td>\n",
       "      <td>False</td>\n",
       "    </tr>\n",
       "    <tr>\n",
       "      <th>3</th>\n",
       "      <td>False</td>\n",
       "      <td>False</td>\n",
       "      <td>False</td>\n",
       "      <td>False</td>\n",
       "      <td>False</td>\n",
       "      <td>False</td>\n",
       "      <td>False</td>\n",
       "    </tr>\n",
       "    <tr>\n",
       "      <th>4</th>\n",
       "      <td>False</td>\n",
       "      <td>False</td>\n",
       "      <td>False</td>\n",
       "      <td>False</td>\n",
       "      <td>False</td>\n",
       "      <td>False</td>\n",
       "      <td>False</td>\n",
       "    </tr>\n",
       "    <tr>\n",
       "      <th>...</th>\n",
       "      <td>...</td>\n",
       "      <td>...</td>\n",
       "      <td>...</td>\n",
       "      <td>...</td>\n",
       "      <td>...</td>\n",
       "      <td>...</td>\n",
       "      <td>...</td>\n",
       "    </tr>\n",
       "    <tr>\n",
       "      <th>995</th>\n",
       "      <td>False</td>\n",
       "      <td>False</td>\n",
       "      <td>False</td>\n",
       "      <td>False</td>\n",
       "      <td>False</td>\n",
       "      <td>False</td>\n",
       "      <td>False</td>\n",
       "    </tr>\n",
       "    <tr>\n",
       "      <th>996</th>\n",
       "      <td>False</td>\n",
       "      <td>False</td>\n",
       "      <td>False</td>\n",
       "      <td>False</td>\n",
       "      <td>False</td>\n",
       "      <td>False</td>\n",
       "      <td>False</td>\n",
       "    </tr>\n",
       "    <tr>\n",
       "      <th>997</th>\n",
       "      <td>False</td>\n",
       "      <td>False</td>\n",
       "      <td>False</td>\n",
       "      <td>False</td>\n",
       "      <td>False</td>\n",
       "      <td>False</td>\n",
       "      <td>False</td>\n",
       "    </tr>\n",
       "    <tr>\n",
       "      <th>998</th>\n",
       "      <td>False</td>\n",
       "      <td>False</td>\n",
       "      <td>False</td>\n",
       "      <td>False</td>\n",
       "      <td>False</td>\n",
       "      <td>False</td>\n",
       "      <td>False</td>\n",
       "    </tr>\n",
       "    <tr>\n",
       "      <th>999</th>\n",
       "      <td>False</td>\n",
       "      <td>False</td>\n",
       "      <td>False</td>\n",
       "      <td>False</td>\n",
       "      <td>False</td>\n",
       "      <td>False</td>\n",
       "      <td>False</td>\n",
       "    </tr>\n",
       "  </tbody>\n",
       "</table>\n",
       "<p>1000 rows × 7 columns</p>\n",
       "</div>"
      ],
      "text/plain": [
       "     Education  Experience  Location  Job_Title    Age  Gender  Salary\n",
       "0        False       False     False      False  False   False   False\n",
       "1        False       False     False      False  False   False   False\n",
       "2        False       False     False      False  False   False   False\n",
       "3        False       False     False      False  False   False   False\n",
       "4        False       False     False      False  False   False   False\n",
       "..         ...         ...       ...        ...    ...     ...     ...\n",
       "995      False       False     False      False  False   False   False\n",
       "996      False       False     False      False  False   False   False\n",
       "997      False       False     False      False  False   False   False\n",
       "998      False       False     False      False  False   False   False\n",
       "999      False       False     False      False  False   False   False\n",
       "\n",
       "[1000 rows x 7 columns]"
      ]
     },
     "execution_count": 6,
     "metadata": {},
     "output_type": "execute_result"
    }
   ],
   "source": [
    "#Find null values\n",
    "data.isna()"
   ]
  },
  {
   "cell_type": "code",
   "execution_count": 7,
   "id": "87247eec-163d-4661-8d6c-9f44a0f627ba",
   "metadata": {},
   "outputs": [
    {
     "data": {
      "text/plain": [
       "Education     0\n",
       "Experience    0\n",
       "Location      0\n",
       "Job_Title     0\n",
       "Age           0\n",
       "Gender        0\n",
       "Salary        0\n",
       "dtype: int64"
      ]
     },
     "execution_count": 7,
     "metadata": {},
     "output_type": "execute_result"
    }
   ],
   "source": [
    "data.isna().sum()"
   ]
  },
  {
   "cell_type": "code",
   "execution_count": 8,
   "id": "69564dde-3b94-4236-811b-150eef634693",
   "metadata": {},
   "outputs": [
    {
     "name": "stdout",
     "output_type": "stream",
     "text": [
      "<class 'pandas.core.frame.DataFrame'>\n",
      "RangeIndex: 1000 entries, 0 to 999\n",
      "Data columns (total 7 columns):\n",
      " #   Column      Non-Null Count  Dtype  \n",
      "---  ------      --------------  -----  \n",
      " 0   Education   1000 non-null   object \n",
      " 1   Experience  1000 non-null   int64  \n",
      " 2   Location    1000 non-null   object \n",
      " 3   Job_Title   1000 non-null   object \n",
      " 4   Age         1000 non-null   int64  \n",
      " 5   Gender      1000 non-null   object \n",
      " 6   Salary      1000 non-null   float64\n",
      "dtypes: float64(1), int64(2), object(4)\n",
      "memory usage: 54.8+ KB\n",
      "None\n"
     ]
    }
   ],
   "source": [
    "# Check for missing values and data types\n",
    "print(data.info())"
   ]
  },
  {
   "cell_type": "code",
   "execution_count": 9,
   "id": "6e667ead-baef-413a-a8b5-2ba4f8f84156",
   "metadata": {},
   "outputs": [
    {
     "name": "stdout",
     "output_type": "stream",
     "text": [
      "        Experience          Age         Salary\n",
      "count  1000.000000  1000.000000    1000.000000\n",
      "mean     14.771000    42.377000  105558.404239\n",
      "std       8.341111    13.609412   28256.972075\n",
      "min       1.000000    20.000000   33510.510669\n",
      "25%       7.000000    30.000000   85032.141517\n",
      "50%      15.000000    43.000000  104314.518315\n",
      "75%      22.000000    55.000000  126804.047524\n",
      "max      29.000000    64.000000  193016.602150\n"
     ]
    }
   ],
   "source": [
    "print(data.describe())"
   ]
  },
  {
   "cell_type": "code",
   "execution_count": 10,
   "id": "ffd2a1a8-8d53-4e1f-8ef5-5c8ad770f5f7",
   "metadata": {},
   "outputs": [
    {
     "data": {
      "text/plain": [
       "Education\n",
       "High School    255\n",
       "Bachelor       253\n",
       "PhD            251\n",
       "Master         241\n",
       "Name: count, dtype: int64"
      ]
     },
     "execution_count": 10,
     "metadata": {},
     "output_type": "execute_result"
    }
   ],
   "source": [
    "data.Education.value_counts()"
   ]
  },
  {
   "cell_type": "code",
   "execution_count": 11,
   "id": "891e1ecb-858a-463e-82d3-0a5995ae6b53",
   "metadata": {},
   "outputs": [
    {
     "data": {
      "text/plain": [
       "Experience\n",
       "17    48\n",
       "6     43\n",
       "20    43\n",
       "18    42\n",
       "5     42\n",
       "16    40\n",
       "8     39\n",
       "24    38\n",
       "2     38\n",
       "13    37\n",
       "25    37\n",
       "19    36\n",
       "4     36\n",
       "7     35\n",
       "1     35\n",
       "22    35\n",
       "28    34\n",
       "3     33\n",
       "11    33\n",
       "29    31\n",
       "12    31\n",
       "27    30\n",
       "14    29\n",
       "21    28\n",
       "23    27\n",
       "26    27\n",
       "15    26\n",
       "9     25\n",
       "10    22\n",
       "Name: count, dtype: int64"
      ]
     },
     "execution_count": 11,
     "metadata": {},
     "output_type": "execute_result"
    }
   ],
   "source": [
    "data.Experience.value_counts()"
   ]
  },
  {
   "cell_type": "code",
   "execution_count": 12,
   "id": "93a912e1-2c3c-4009-a1cd-b5582d68ea9a",
   "metadata": {},
   "outputs": [
    {
     "data": {
      "text/plain": [
       "Location\n",
       "Suburban    345\n",
       "Rural       345\n",
       "Urban       310\n",
       "Name: count, dtype: int64"
      ]
     },
     "execution_count": 12,
     "metadata": {},
     "output_type": "execute_result"
    }
   ],
   "source": [
    "data.Location.value_counts()"
   ]
  },
  {
   "cell_type": "code",
   "execution_count": 13,
   "id": "3dd541cb-ea57-4741-9633-a17a28ac775e",
   "metadata": {},
   "outputs": [
    {
     "data": {
      "text/plain": [
       "Gender\n",
       "Male      516\n",
       "Female    484\n",
       "Name: count, dtype: int64"
      ]
     },
     "execution_count": 13,
     "metadata": {},
     "output_type": "execute_result"
    }
   ],
   "source": [
    "data.Gender.value_counts()"
   ]
  },
  {
   "cell_type": "code",
   "execution_count": 14,
   "id": "9ea7527b-a901-4b85-9098-473652af3152",
   "metadata": {},
   "outputs": [
    {
     "data": {
      "text/plain": [
       "Job_Title\n",
       "Director    275\n",
       "Analyst     255\n",
       "Manager     241\n",
       "Engineer    229\n",
       "Name: count, dtype: int64"
      ]
     },
     "execution_count": 14,
     "metadata": {},
     "output_type": "execute_result"
    }
   ],
   "source": [
    "data.Job_Title.value_counts()"
   ]
  },
  {
   "cell_type": "code",
   "execution_count": 15,
   "id": "f862a9f6-9492-41ab-a6ef-c5196fee2fcb",
   "metadata": {},
   "outputs": [
    {
     "data": {
      "image/png": "[encoded data removed]",
      "text/plain": [
       "<Figure size 640x480 with 1 Axes>"
      ]
     },
     "metadata": {},
     "output_type": "display_data"
    }
   ],
   "source": [
    "#outlier\n",
    "import matplotlib.pyplot as plt\n",
    "\n",
    "plt.boxplot(data['Age'])\n",
    "plt.show()"
   ]
  },
  {
   "cell_type": "code",
   "execution_count": 16,
   "id": "70d35d38-3a97-469d-89a8-a8cf5667f2e3",
   "metadata": {},
   "outputs": [
    {
     "data": {
      "image/png": "[encoded data removed]",
      "text/plain": [
       "<Figure size 640x480 with 2 Axes>"
      ]
     },
     "metadata": {},
     "output_type": "display_data"
    }
   ],
   "source": [
    "#data correlation\n",
    "# Correlation heatmap\n",
    "import seaborn as sns\n",
    "sns.heatmap(data[['Experience', 'Age', 'Salary']].corr(), annot=True, cmap='coolwarm')\n",
    "plt.show()"
   ]
  },
  {
   "cell_type": "code",
   "execution_count": 17,
   "id": "2b5fcb77-0d64-4e36-9010-3025ab86abb0",
   "metadata": {},
   "outputs": [
    {
     "data": {
      "image/png": "[encoded data removed]",
      "text/plain": [
       "<Figure size 640x480 with 1 Axes>"
      ]
     },
     "metadata": {},
     "output_type": "display_data"
    }
   ],
   "source": [
    "# Plot Salary distribution\n",
    "sns.histplot(data['Salary'], kde=True)\n",
    "plt.title('Salary Distribution')\n",
    "plt.show()"
   ]
  },
  {
   "cell_type": "code",
   "execution_count": 18,
   "id": "fe55fc79-8fa8-43ca-bb0a-1241e44feb07",
   "metadata": {},
   "outputs": [
    {
     "data": {
      "image/png": "[encoded data removed]",
      "text/plain": [
       "<Figure size 640x480 with 1 Axes>"
      ]
     },
     "metadata": {},
     "output_type": "display_data"
    }
   ],
   "source": [
    "sns.histplot(data['Experience'], kde=True)\n",
    "plt.title('Experience plot')\n",
    "plt.show()"
   ]
  },
  {
   "cell_type": "code",
   "execution_count": 19,
   "id": "6e733620-ceb3-4537-adb3-70b49c79448b",
   "metadata": {},
   "outputs": [
    {
     "data": {
      "text/html": [
       "<div>\n",
       "<style scoped>\n",
       "    .dataframe tbody tr th:only-of-type {\n",
       "        vertical-align: middle;\n",
       "    }\n",
       "\n",
       "    .dataframe tbody tr th {\n",
       "        vertical-align: top;\n",
       "    }\n",
       "\n",
       "    .dataframe thead th {\n",
       "        text-align: right;\n",
       "    }\n",
       "</style>\n",
       "<table border=\"1\" class=\"dataframe\">\n",
       "  <thead>\n",
       "    <tr style=\"text-align: right;\">\n",
       "      <th></th>\n",
       "      <th>Education</th>\n",
       "      <th>Experience</th>\n",
       "      <th>Location</th>\n",
       "      <th>Job_Title</th>\n",
       "      <th>Age</th>\n",
       "      <th>Gender</th>\n",
       "      <th>Salary</th>\n",
       "    </tr>\n",
       "  </thead>\n",
       "  <tbody>\n",
       "    <tr>\n",
       "      <th>0</th>\n",
       "      <td>High School</td>\n",
       "      <td>8</td>\n",
       "      <td>Urban</td>\n",
       "      <td>Manager</td>\n",
       "      <td>63</td>\n",
       "      <td>Male</td>\n",
       "      <td>84620.053665</td>\n",
       "    </tr>\n",
       "    <tr>\n",
       "      <th>1</th>\n",
       "      <td>PhD</td>\n",
       "      <td>11</td>\n",
       "      <td>Suburban</td>\n",
       "      <td>Director</td>\n",
       "      <td>59</td>\n",
       "      <td>Male</td>\n",
       "      <td>142591.255894</td>\n",
       "    </tr>\n",
       "    <tr>\n",
       "      <th>2</th>\n",
       "      <td>Bachelor</td>\n",
       "      <td>28</td>\n",
       "      <td>Suburban</td>\n",
       "      <td>Manager</td>\n",
       "      <td>61</td>\n",
       "      <td>Female</td>\n",
       "      <td>97800.255404</td>\n",
       "    </tr>\n",
       "    <tr>\n",
       "      <th>3</th>\n",
       "      <td>High School</td>\n",
       "      <td>29</td>\n",
       "      <td>Rural</td>\n",
       "      <td>Director</td>\n",
       "      <td>45</td>\n",
       "      <td>Male</td>\n",
       "      <td>96834.671282</td>\n",
       "    </tr>\n",
       "    <tr>\n",
       "      <th>4</th>\n",
       "      <td>PhD</td>\n",
       "      <td>25</td>\n",
       "      <td>Urban</td>\n",
       "      <td>Analyst</td>\n",
       "      <td>26</td>\n",
       "      <td>Female</td>\n",
       "      <td>132157.786175</td>\n",
       "    </tr>\n",
       "    <tr>\n",
       "      <th>...</th>\n",
       "      <td>...</td>\n",
       "      <td>...</td>\n",
       "      <td>...</td>\n",
       "      <td>...</td>\n",
       "      <td>...</td>\n",
       "      <td>...</td>\n",
       "      <td>...</td>\n",
       "    </tr>\n",
       "    <tr>\n",
       "      <th>995</th>\n",
       "      <td>High School</td>\n",
       "      <td>8</td>\n",
       "      <td>Suburban</td>\n",
       "      <td>Analyst</td>\n",
       "      <td>25</td>\n",
       "      <td>Female</td>\n",
       "      <td>64683.389864</td>\n",
       "    </tr>\n",
       "    <tr>\n",
       "      <th>996</th>\n",
       "      <td>High School</td>\n",
       "      <td>24</td>\n",
       "      <td>Urban</td>\n",
       "      <td>Engineer</td>\n",
       "      <td>30</td>\n",
       "      <td>Female</td>\n",
       "      <td>74468.205020</td>\n",
       "    </tr>\n",
       "    <tr>\n",
       "      <th>997</th>\n",
       "      <td>Master</td>\n",
       "      <td>18</td>\n",
       "      <td>Rural</td>\n",
       "      <td>Analyst</td>\n",
       "      <td>44</td>\n",
       "      <td>Male</td>\n",
       "      <td>98207.026024</td>\n",
       "    </tr>\n",
       "    <tr>\n",
       "      <th>998</th>\n",
       "      <td>Bachelor</td>\n",
       "      <td>27</td>\n",
       "      <td>Suburban</td>\n",
       "      <td>Director</td>\n",
       "      <td>31</td>\n",
       "      <td>Female</td>\n",
       "      <td>108544.922720</td>\n",
       "    </tr>\n",
       "    <tr>\n",
       "      <th>999</th>\n",
       "      <td>High School</td>\n",
       "      <td>25</td>\n",
       "      <td>Urban</td>\n",
       "      <td>Director</td>\n",
       "      <td>41</td>\n",
       "      <td>Female</td>\n",
       "      <td>71077.000066</td>\n",
       "    </tr>\n",
       "  </tbody>\n",
       "</table>\n",
       "<p>1000 rows × 7 columns</p>\n",
       "</div>"
      ],
      "text/plain": [
       "       Education  Experience  Location Job_Title  Age  Gender         Salary\n",
       "0    High School           8     Urban   Manager   63    Male   84620.053665\n",
       "1            PhD          11  Suburban  Director   59    Male  142591.255894\n",
       "2       Bachelor          28  Suburban   Manager   61  Female   97800.255404\n",
       "3    High School          29     Rural  Director   45    Male   96834.671282\n",
       "4            PhD          25     Urban   Analyst   26  Female  132157.786175\n",
       "..           ...         ...       ...       ...  ...     ...            ...\n",
       "995  High School           8  Suburban   Analyst   25  Female   64683.389864\n",
       "996  High School          24     Urban  Engineer   30  Female   74468.205020\n",
       "997       Master          18     Rural   Analyst   44    Male   98207.026024\n",
       "998     Bachelor          27  Suburban  Director   31  Female  108544.922720\n",
       "999  High School          25     Urban  Director   41  Female   71077.000066\n",
       "\n",
       "[1000 rows x 7 columns]"
      ]
     },
     "execution_count": 19,
     "metadata": {},
     "output_type": "execute_result"
    }
   ],
   "source": [
    "data"
   ]
  },
  {
   "cell_type": "code",
   "execution_count": 20,
   "id": "5370caec-3f94-4fd3-a1dd-cb396a22ada8",
   "metadata": {},
   "outputs": [
    {
     "data": {
      "text/html": [
       "<div>\n",
       "<style scoped>\n",
       "    .dataframe tbody tr th:only-of-type {\n",
       "        vertical-align: middle;\n",
       "    }\n",
       "\n",
       "    .dataframe tbody tr th {\n",
       "        vertical-align: top;\n",
       "    }\n",
       "\n",
       "    .dataframe thead th {\n",
       "        text-align: right;\n",
       "    }\n",
       "</style>\n",
       "<table border=\"1\" class=\"dataframe\">\n",
       "  <thead>\n",
       "    <tr style=\"text-align: right;\">\n",
       "      <th></th>\n",
       "      <th>Education</th>\n",
       "      <th>Experience</th>\n",
       "      <th>Location</th>\n",
       "      <th>Job_Title</th>\n",
       "      <th>Age</th>\n",
       "      <th>Gender</th>\n",
       "      <th>Salary</th>\n",
       "    </tr>\n",
       "  </thead>\n",
       "  <tbody>\n",
       "    <tr>\n",
       "      <th>0</th>\n",
       "      <td>1</td>\n",
       "      <td>8</td>\n",
       "      <td>2</td>\n",
       "      <td>3</td>\n",
       "      <td>63</td>\n",
       "      <td>1</td>\n",
       "      <td>84620.053665</td>\n",
       "    </tr>\n",
       "    <tr>\n",
       "      <th>1</th>\n",
       "      <td>3</td>\n",
       "      <td>11</td>\n",
       "      <td>1</td>\n",
       "      <td>1</td>\n",
       "      <td>59</td>\n",
       "      <td>1</td>\n",
       "      <td>142591.255894</td>\n",
       "    </tr>\n",
       "    <tr>\n",
       "      <th>2</th>\n",
       "      <td>0</td>\n",
       "      <td>28</td>\n",
       "      <td>1</td>\n",
       "      <td>3</td>\n",
       "      <td>61</td>\n",
       "      <td>0</td>\n",
       "      <td>97800.255404</td>\n",
       "    </tr>\n",
       "    <tr>\n",
       "      <th>3</th>\n",
       "      <td>1</td>\n",
       "      <td>29</td>\n",
       "      <td>0</td>\n",
       "      <td>1</td>\n",
       "      <td>45</td>\n",
       "      <td>1</td>\n",
       "      <td>96834.671282</td>\n",
       "    </tr>\n",
       "    <tr>\n",
       "      <th>4</th>\n",
       "      <td>3</td>\n",
       "      <td>25</td>\n",
       "      <td>2</td>\n",
       "      <td>0</td>\n",
       "      <td>26</td>\n",
       "      <td>0</td>\n",
       "      <td>132157.786175</td>\n",
       "    </tr>\n",
       "    <tr>\n",
       "      <th>...</th>\n",
       "      <td>...</td>\n",
       "      <td>...</td>\n",
       "      <td>...</td>\n",
       "      <td>...</td>\n",
       "      <td>...</td>\n",
       "      <td>...</td>\n",
       "      <td>...</td>\n",
       "    </tr>\n",
       "    <tr>\n",
       "      <th>995</th>\n",
       "      <td>1</td>\n",
       "      <td>8</td>\n",
       "      <td>1</td>\n",
       "      <td>0</td>\n",
       "      <td>25</td>\n",
       "      <td>0</td>\n",
       "      <td>64683.389864</td>\n",
       "    </tr>\n",
       "    <tr>\n",
       "      <th>996</th>\n",
       "      <td>1</td>\n",
       "      <td>24</td>\n",
       "      <td>2</td>\n",
       "      <td>2</td>\n",
       "      <td>30</td>\n",
       "      <td>0</td>\n",
       "      <td>74468.205020</td>\n",
       "    </tr>\n",
       "    <tr>\n",
       "      <th>997</th>\n",
       "      <td>2</td>\n",
       "      <td>18</td>\n",
       "      <td>0</td>\n",
       "      <td>0</td>\n",
       "      <td>44</td>\n",
       "      <td>1</td>\n",
       "      <td>98207.026024</td>\n",
       "    </tr>\n",
       "    <tr>\n",
       "      <th>998</th>\n",
       "      <td>0</td>\n",
       "      <td>27</td>\n",
       "      <td>1</td>\n",
       "      <td>1</td>\n",
       "      <td>31</td>\n",
       "      <td>0</td>\n",
       "      <td>108544.922720</td>\n",
       "    </tr>\n",
       "    <tr>\n",
       "      <th>999</th>\n",
       "      <td>1</td>\n",
       "      <td>25</td>\n",
       "      <td>2</td>\n",
       "      <td>1</td>\n",
       "      <td>41</td>\n",
       "      <td>0</td>\n",
       "      <td>71077.000066</td>\n",
       "    </tr>\n",
       "  </tbody>\n",
       "</table>\n",
       "<p>1000 rows × 7 columns</p>\n",
       "</div>"
      ],
      "text/plain": [
       "     Education  Experience  Location  Job_Title  Age  Gender         Salary\n",
       "0            1           8         2          3   63       1   84620.053665\n",
       "1            3          11         1          1   59       1  142591.255894\n",
       "2            0          28         1          3   61       0   97800.255404\n",
       "3            1          29         0          1   45       1   96834.671282\n",
       "4            3          25         2          0   26       0  132157.786175\n",
       "..         ...         ...       ...        ...  ...     ...            ...\n",
       "995          1           8         1          0   25       0   64683.389864\n",
       "996          1          24         2          2   30       0   74468.205020\n",
       "997          2          18         0          0   44       1   98207.026024\n",
       "998          0          27         1          1   31       0  108544.922720\n",
       "999          1          25         2          1   41       0   71077.000066\n",
       "\n",
       "[1000 rows x 7 columns]"
      ]
     },
     "execution_count": 20,
     "metadata": {},
     "output_type": "execute_result"
    }
   ],
   "source": [
    "#Lavel encoding\n",
    "from sklearn.preprocessing import LabelEncoder\n",
    "encoder=LabelEncoder()\n",
    "data['Education']=encoder.fit_transform(data['Education'])\n",
    "data['Location']=encoder.fit_transform(data['Location'])\n",
    "data['Job_Title']=encoder.fit_transform(data['Job_Title'])\n",
    "data['Gender']=encoder.fit_transform(data['Gender'])\n",
    "data"
   ]
  },
  {
   "cell_type": "code",
   "execution_count": 21,
   "id": "cb65e8a5-040f-4d74-a550-34ae3b020b61",
   "metadata": {},
   "outputs": [
    {
     "data": {
      "text/html": [
       "<div>\n",
       "<style scoped>\n",
       "    .dataframe tbody tr th:only-of-type {\n",
       "        vertical-align: middle;\n",
       "    }\n",
       "\n",
       "    .dataframe tbody tr th {\n",
       "        vertical-align: top;\n",
       "    }\n",
       "\n",
       "    .dataframe thead th {\n",
       "        text-align: right;\n",
       "    }\n",
       "</style>\n",
       "<table border=\"1\" class=\"dataframe\">\n",
       "  <thead>\n",
       "    <tr style=\"text-align: right;\">\n",
       "      <th></th>\n",
       "      <th>Education</th>\n",
       "      <th>Experience</th>\n",
       "      <th>Location</th>\n",
       "      <th>Job_Title</th>\n",
       "      <th>Age</th>\n",
       "      <th>Gender</th>\n",
       "    </tr>\n",
       "  </thead>\n",
       "  <tbody>\n",
       "    <tr>\n",
       "      <th>0</th>\n",
       "      <td>1</td>\n",
       "      <td>8</td>\n",
       "      <td>2</td>\n",
       "      <td>3</td>\n",
       "      <td>63</td>\n",
       "      <td>1</td>\n",
       "    </tr>\n",
       "    <tr>\n",
       "      <th>1</th>\n",
       "      <td>3</td>\n",
       "      <td>11</td>\n",
       "      <td>1</td>\n",
       "      <td>1</td>\n",
       "      <td>59</td>\n",
       "      <td>1</td>\n",
       "    </tr>\n",
       "    <tr>\n",
       "      <th>2</th>\n",
       "      <td>0</td>\n",
       "      <td>28</td>\n",
       "      <td>1</td>\n",
       "      <td>3</td>\n",
       "      <td>61</td>\n",
       "      <td>0</td>\n",
       "    </tr>\n",
       "    <tr>\n",
       "      <th>3</th>\n",
       "      <td>1</td>\n",
       "      <td>29</td>\n",
       "      <td>0</td>\n",
       "      <td>1</td>\n",
       "      <td>45</td>\n",
       "      <td>1</td>\n",
       "    </tr>\n",
       "    <tr>\n",
       "      <th>4</th>\n",
       "      <td>3</td>\n",
       "      <td>25</td>\n",
       "      <td>2</td>\n",
       "      <td>0</td>\n",
       "      <td>26</td>\n",
       "      <td>0</td>\n",
       "    </tr>\n",
       "    <tr>\n",
       "      <th>...</th>\n",
       "      <td>...</td>\n",
       "      <td>...</td>\n",
       "      <td>...</td>\n",
       "      <td>...</td>\n",
       "      <td>...</td>\n",
       "      <td>...</td>\n",
       "    </tr>\n",
       "    <tr>\n",
       "      <th>995</th>\n",
       "      <td>1</td>\n",
       "      <td>8</td>\n",
       "      <td>1</td>\n",
       "      <td>0</td>\n",
       "      <td>25</td>\n",
       "      <td>0</td>\n",
       "    </tr>\n",
       "    <tr>\n",
       "      <th>996</th>\n",
       "      <td>1</td>\n",
       "      <td>24</td>\n",
       "      <td>2</td>\n",
       "      <td>2</td>\n",
       "      <td>30</td>\n",
       "      <td>0</td>\n",
       "    </tr>\n",
       "    <tr>\n",
       "      <th>997</th>\n",
       "      <td>2</td>\n",
       "      <td>18</td>\n",
       "      <td>0</td>\n",
       "      <td>0</td>\n",
       "      <td>44</td>\n",
       "      <td>1</td>\n",
       "    </tr>\n",
       "    <tr>\n",
       "      <th>998</th>\n",
       "      <td>0</td>\n",
       "      <td>27</td>\n",
       "      <td>1</td>\n",
       "      <td>1</td>\n",
       "      <td>31</td>\n",
       "      <td>0</td>\n",
       "    </tr>\n",
       "    <tr>\n",
       "      <th>999</th>\n",
       "      <td>1</td>\n",
       "      <td>25</td>\n",
       "      <td>2</td>\n",
       "      <td>1</td>\n",
       "      <td>41</td>\n",
       "      <td>0</td>\n",
       "    </tr>\n",
       "  </tbody>\n",
       "</table>\n",
       "<p>1000 rows × 6 columns</p>\n",
       "</div>"
      ],
      "text/plain": [
       "     Education  Experience  Location  Job_Title  Age  Gender\n",
       "0            1           8         2          3   63       1\n",
       "1            3          11         1          1   59       1\n",
       "2            0          28         1          3   61       0\n",
       "3            1          29         0          1   45       1\n",
       "4            3          25         2          0   26       0\n",
       "..         ...         ...       ...        ...  ...     ...\n",
       "995          1           8         1          0   25       0\n",
       "996          1          24         2          2   30       0\n",
       "997          2          18         0          0   44       1\n",
       "998          0          27         1          1   31       0\n",
       "999          1          25         2          1   41       0\n",
       "\n",
       "[1000 rows x 6 columns]"
      ]
     },
     "execution_count": 21,
     "metadata": {},
     "output_type": "execute_result"
    }
   ],
   "source": [
    "# Split features and target\n",
    "X=data.drop(columns=['Salary']) #input\n",
    "Y=data['Salary'] #output\n",
    "X"
   ]
  },
  {
   "cell_type": "code",
   "execution_count": 22,
   "id": "3d4da49c-8265-4892-a089-57881310477d",
   "metadata": {},
   "outputs": [
    {
     "data": {
      "text/plain": [
       "0       84620.053665\n",
       "1      142591.255894\n",
       "2       97800.255404\n",
       "3       96834.671282\n",
       "4      132157.786175\n",
       "           ...      \n",
       "995     64683.389864\n",
       "996     74468.205020\n",
       "997     98207.026024\n",
       "998    108544.922720\n",
       "999     71077.000066\n",
       "Name: Salary, Length: 1000, dtype: float64"
      ]
     },
     "execution_count": 22,
     "metadata": {},
     "output_type": "execute_result"
    }
   ],
   "source": [
    "Y"
   ]
  },
  {
   "cell_type": "code",
   "execution_count": 23,
   "id": "b37136cf-21da-4a78-999a-d6cec6124a40",
   "metadata": {},
   "outputs": [],
   "source": [
    "from sklearn.model_selection import train_test_split\n",
    "# Split dataset\n",
    "xtrain, xtest, ytrain, ytest = train_test_split(\n",
    "    X, Y,               # Features and target\n",
    "    test_size=0.2,      # 20% for testing\n",
    "    random_state=42,     # For reproducibility\n",
    ")\n"
   ]
  },
  {
   "cell_type": "code",
   "execution_count": 24,
   "id": "3b72b3b2-c801-4a1f-8391-2e4208f0b3c5",
   "metadata": {},
   "outputs": [],
   "source": [
    "#RandomForestRegressor algo\n",
    "from sklearn.ensemble import RandomForestRegressor\n",
    "\n",
    "model = RandomForestRegressor(n_estimators=100, random_state=42)\n",
    "model.fit(xtrain, ytrain)\n",
    "y_pred = model.predict(xtest)\n"
   ]
  },
  {
   "cell_type": "code",
   "execution_count": 25,
   "id": "cfa6b046-bd38-47b9-9329-1b20f5cf00b4",
   "metadata": {},
   "outputs": [
    {
     "name": "stdout",
     "output_type": "stream",
     "text": [
      "R² Score: 0.8443697814904405\n",
      "MSE: 127076206.24952526\n"
     ]
    }
   ],
   "source": [
    "#Evaluate Models\n",
    "from sklearn.metrics import r2_score, mean_squared_error\n",
    "\n",
    "print(\"R² Score:\", r2_score(ytest, y_pred))\n",
    "print(\"MSE:\", mean_squared_error(ytest, y_pred))\n"
   ]
  },
  {
   "cell_type": "code",
   "execution_count": 30,
   "id": "5d0b2c7a-a69c-4620-859f-0f0064c60894",
   "metadata": {
    "scrolled": true
   },
   "outputs": [
    {
     "name": "stdout",
     "output_type": "stream",
     "text": [
      "\n",
      "--- Salary Prediction Based on User Input ---\n"
     ]
    },
    {
     "name": "stdin",
     "output_type": "stream",
     "text": [
      "Enter Education (e.g., High School, Bachelor, Master, PhD):  1\n",
      "Enter Years of Experience:  2\n",
      "Enter Location (e.g., Urban, Suburban, Rural):  2\n",
      "Enter Job Title (e.g., Manager, Director, Analyst):  2\n",
      "Enter Age:  20\n",
      "Enter Gender (Male/Female):  1\n"
     ]
    },
    {
     "name": "stdout",
     "output_type": "stream",
     "text": [
      "\n",
      "✅ Predicted Salary: ₹60,622.11\n"
     ]
    }
   ],
   "source": [
    "#Local Testing model user input\n",
    "print(\"\\n--- Salary Prediction Based on User Input ---\")\n",
    "education = input(\"Enter Education (e.g., High School, Bachelor, Master, PhD): \")\n",
    "experience = int(input(\"Enter Years of Experience: \"))\n",
    "location = input(\"Enter Location (e.g., Urban, Suburban, Rural): \")\n",
    "job_title = input(\"Enter Job Title (e.g., Manager, Director, Analyst): \")\n",
    "age = int(input(\"Enter Age: \"))\n",
    "gender = input(\"Enter Gender (Male/Female): \")\n",
    "\n",
    "# Create DataFrame\n",
    "user_data = pd.DataFrame([{\n",
    "    \"Education\": education,\n",
    "    \"Experience\": experience,\n",
    "    \"Location\": location,\n",
    "    \"Job_Title\": job_title,\n",
    "    \"Age\": age,\n",
    "    \"Gender\": gender\n",
    "}])\n",
    "\n",
    "# ⚠️ Make sure user_data columns match training data\n",
    "# Predict\n",
    "predicted_salary = model.predict(user_data)[0]\n",
    "print(f\"\\n✅ Predicted Salary: ₹{predicted_salary:,.2f}\")\n"
   ]
  },
  {
   "cell_type": "code",
   "execution_count": 27,
   "id": "f28b9e14-93ee-480a-a738-7d2b56b9b64a",
   "metadata": {},
   "outputs": [
    {
     "name": "stdout",
     "output_type": "stream",
     "text": [
      "✅ Model saved as salary_model.pkl\n"
     ]
    }
   ],
   "source": [
    "import pickle\n",
    "# Save the trained pipeline\n",
    "pickle.dump(model, open('salary_model.pkl', 'wb'))\n",
    "print(\"✅ Model saved as salary_model.pkl\")\n"
   ]
  },
  {
   "cell_type": "code",
   "execution_count": null,
   "id": "bf3178e6-d9aa-452b-8752-68c61090fcb9",
   "metadata": {},
   "outputs": [],
   "source": []
  }
 ],
 "metadata": {
  "kernelspec": {
   "display_name": "Python [conda env:base] *",
   "language": "python",
   "name": "conda-base-py"
  },
  "language_info": {
   "codemirror_mode": {
    "name": "ipython",
    "version": 3
   },
   "file_extension": ".py",
   "mimetype": "text/x-python",
   "name": "python",
   "nbconvert_exporter": "python",
   "pygments_lexer": "ipython3",
   "version": "3.13.5"
  }
 },
 "nbformat": 4,
 "nbformat_minor": 5
}
